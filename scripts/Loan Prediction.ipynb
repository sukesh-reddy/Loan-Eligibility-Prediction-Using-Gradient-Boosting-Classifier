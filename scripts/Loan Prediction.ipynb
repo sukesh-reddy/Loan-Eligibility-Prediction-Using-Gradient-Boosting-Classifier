{
 "cells": [
  {
   "cell_type": "markdown",
   "metadata": {},
   "source": [
    "# Business Problem"
   ]
  },
  {
   "cell_type": "markdown",
   "metadata": {},
   "source": [
    "SYL bank is one of Australia's largest banks. Currently, the loan applications which come in to their various branches are processed manually. The decision whether to grant a loan or not is subjective and due to a lot of applications coming in, it is getting harder for them to decide the loan grant status. Thus, they want to build an automated machine learning solution which will look at different factors and decide whether to grant loan or not to the respective individual.\n",
    "\n",
    "In this ML problem, we will building a classification model as we have to predict if an applicant should get a loan or not. We will look at various factors of the applicant like credit score, past history and from those we will try to predict the loan granting status. We will also cleanse the data and fill in the missing values so that our ML model performs as expected. Thus we will be giving out a probability score along with Loan Granted or Loan Refused output from the model."
   ]
  },
  {
   "cell_type": "markdown",
   "metadata": {},
   "source": [
    "## Machine Learning Perspective"
   ]
  },
  {
   "cell_type": "markdown",
   "metadata": {},
   "source": [
    "This business problem falls under:\n",
    "- Supervised Learning\n",
    "- Classification [ Binary ]"
   ]
  },
  {
   "cell_type": "markdown",
   "metadata": {},
   "source": [
    "## Solution WorkFlow"
   ]
  },
  {
   "cell_type": "markdown",
   "metadata": {},
   "source": [
    "- UNDERSTANDING PROBLEM STATEMENT\n",
    "- SETTING UP THE WORKING ENVOIRNMENT\n",
    "- DATA INGESTION / SOURCING\n",
    "- EDA ( EXPLORATORY DATA ANALYSIS)\n",
    "    - OUTLIER DETECTION\n",
    "    - CORRELATIONS\n",
    "    - MISSING VALUES\n",
    "- DATA PREPARATION\n",
    "- MODEL BUILDING\n",
    "- MODEL EVALUATION\n",
    "- FINALIZING THE MODEL AND SAVE IT\n",
    "- PRODUCTIONIZATION (IN-GENERAL, NOT PERFORMED HERE)"
   ]
  },
  {
   "cell_type": "markdown",
   "metadata": {},
   "source": [
    "### SETTING UP THE WORKING ENVOIRNMENT"
   ]
  },
  {
   "cell_type": "code",
   "execution_count": 3,
   "metadata": {},
   "outputs": [],
   "source": [
    "# DATA MANIPULATION LIBRARIES\n",
    "import pandas as pd\n",
    "import numpy as np\n",
    "import os\n",
    "\n",
    "# data visualization libraries\n",
    "import matplotlib.pyplot as plt\n",
    "import seaborn as sns\n",
    "from matplotlib import pyplot\n",
    "\n",
    "# sklearn - final data preparation libraries\n",
    "from sklearn.model_selection import train_test_split, GridSearchCV, cross_val_score\n",
    "from sklearn.preprocessing import LabelBinarizer, StandardScaler, OrdinalEncoder\n",
    "from sklearn import preprocessing\n",
    "\n",
    "# imblance dataset preparation libraries\n",
    "from imblearn.over_sampling import SMOTE\n",
    "\n",
    "#model building libraries\n",
    "from sklearn.linear_model import LogisticRegression, RidgeClassifier, PassiveAggressiveClassifier\n",
    "from sklearn.ensemble import RandomForestClassifier, GradientBoostingClassifier\n",
    "from xgboost import XGBClassifier\n",
    "from sklearn.tree import DecisionTreeClassifier\n",
    "from sklearn.svm import LinearSVC\n",
    "from sklearn.neighbors import KNeighborsClassifier\n",
    "from sklearn.naive_bayes import BernoulliNB\n",
    "from xgboost import plot_importance\n",
    "\n",
    "\n",
    "# model metrics\n",
    "from sklearn.metrics import confusion_matrix,roc_curve,roc_auc_score,classification_report\n",
    "from sklearn import metrics\n",
    "\n",
    "# statistics\n",
    "import statistics\n",
    "from scipy.stats import boxcox\n",
    "\n",
    "# model saving\n",
    "import joblib"
   ]
  },
  {
   "cell_type": "markdown",
   "metadata": {},
   "source": [
    "### DATA SOURCING"
   ]
  },
  {
   "cell_type": "code",
   "execution_count": 5,
   "metadata": {},
   "outputs": [],
   "source": [
    "# Reading the dataset\n",
    "data = pd.read_csv('D:\\\\github\\\\1-DataSets\\\\loan eligibility prediction\\\\LoansTrainingSetV2.csv',\n",
    "                  low_memory=False)"
   ]
  },
  {
   "cell_type": "code",
   "execution_count": null,
   "metadata": {},
   "outputs": [],
   "source": []
  }
 ],
 "metadata": {
  "kernelspec": {
   "display_name": "Python 3",
   "language": "python",
   "name": "python3"
  },
  "language_info": {
   "codemirror_mode": {
    "name": "ipython",
    "version": 3
   },
   "file_extension": ".py",
   "mimetype": "text/x-python",
   "name": "python",
   "nbconvert_exporter": "python",
   "pygments_lexer": "ipython3",
   "version": "3.7.6"
  }
 },
 "nbformat": 4,
 "nbformat_minor": 4
}
